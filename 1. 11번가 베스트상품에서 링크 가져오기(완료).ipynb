{
 "cells": [
  {
   "cell_type": "code",
   "execution_count": 11,
   "id": "43af19d3",
   "metadata": {},
   "outputs": [],
   "source": [
    "from selenium import webdriver\n",
    "import time\n",
    "from selenium.webdriver.common.by import By\n",
    "import random"
   ]
  },
  {
   "cell_type": "markdown",
   "id": "ec0ce5a6",
   "metadata": {},
   "source": [
    "# 링크 따오기"
   ]
  },
  {
   "cell_type": "code",
   "execution_count": 12,
   "id": "b65d553f",
   "metadata": {
    "scrolled": false
   },
   "outputs": [
    {
     "name": "stderr",
     "output_type": "stream",
     "text": [
      "C:\\Users\\019\\AppData\\Local\\Temp\\ipykernel_15640\\1409275081.py:1: DeprecationWarning: executable_path has been deprecated, please pass in a Service object\n",
      "  driver = webdriver.Chrome(\"chromedriver.exe\")\n"
     ]
    },
    {
     "name": "stdout",
     "output_type": "stream",
     "text": [
      "https://www.11st.co.kr/products/2217098035?inpu=&trTypeCd=22&trCtgrNo=895019\n"
     ]
    }
   ],
   "source": [
    "driver = webdriver.Chrome(\"chromedriver.exe\")\n",
    "url = \"https://www.11st.co.kr/browsing/BestSeller.tmall?method=getBestSellerMain\"\n",
    "driver.get(url)\n",
    "driver.implicitly_wait(3)\n",
    "element = driver.find_element(By.XPATH, \"/html/body/div[2]/div[2]/div/div[3]/div[2]/ul/li[1]/div/a\").get_attribute('href')\n",
    "driver.quit()\n",
    "print(element)"
   ]
  },
  {
   "cell_type": "markdown",
   "id": "839cee71",
   "metadata": {},
   "source": [
    "# 이름 따오기"
   ]
  },
  {
   "cell_type": "code",
   "execution_count": 13,
   "id": "bf13c2af",
   "metadata": {
    "scrolled": true
   },
   "outputs": [
    {
     "name": "stderr",
     "output_type": "stream",
     "text": [
      "C:\\Users\\019\\AppData\\Local\\Temp\\ipykernel_15640\\3826352752.py:1: DeprecationWarning: executable_path has been deprecated, please pass in a Service object\n",
      "  driver = webdriver.Chrome(\"chromedriver.exe\")\n"
     ]
    },
    {
     "name": "stdout",
     "output_type": "stream",
     "text": [
      "[아모레퍼시픽] 한가위 BEST 선물세트 모음전! #설화수#헤라#프리메라#메이크온\n"
     ]
    }
   ],
   "source": [
    "driver = webdriver.Chrome(\"chromedriver.exe\")\n",
    "url = \"https://www.11st.co.kr/browsing/BestSeller.tmall?method=getBestSellerMain\"\n",
    "driver.get(url)\n",
    "driver.implicitly_wait(3)\n",
    "element = driver.find_element(By.XPATH, \"/html/body/div[2]/div[2]/div/div[3]/div[2]/ul/li[1]/div/a/div[2]/p\").text\n",
    "driver.quit()\n",
    "print(element)"
   ]
  },
  {
   "cell_type": "markdown",
   "id": "2c584fc1",
   "metadata": {},
   "source": [
    "# 완성 코드 - 28개 까지만 긁힘"
   ]
  },
  {
   "cell_type": "code",
   "execution_count": null,
   "id": "2cf8dce1",
   "metadata": {
    "scrolled": true
   },
   "outputs": [],
   "source": [
    "# 베스트 500 상품 이름과 링크 저장하기\n",
    "driver = webdriver.Chrome(\"chromedriver.exe\")\n",
    "url = \"https://www.11st.co.kr/browsing/BestSeller.tmall?method=getBestSellerMain\"\n",
    "driver.get(url)\n",
    "# 드라이버 열릴 때까지 최대 3초 기다리기\n",
    "driver.implicitly_wait(3)\n",
    "\n",
    "# xpath가 순서대로 나와서 f string 으로 변수에 저장함\n",
    "\n",
    "product_name = []\n",
    "link = []\n",
    "\n",
    "for i in range(500):\n",
    "    # 상품 이름과 링크의 xpath\n",
    "    # for문과 f string이용\n",
    "    name_x = f'/html/body/div[2]/div[2]/div/div[3]/div[2]/ul/li[{i+1}]/div/a/div[2]/p'\n",
    "    link_x = f'/html/body/div[2]/div[2]/div/div[3]/div[2]/ul/li[{i+1}]/div/a'\n",
    "\n",
    "    temp1 = driver.find_element(By.XPATH, name_x).text\n",
    "    temp2 = driver.find_element(By.XPATH, link_x).get_attribute('href')\n",
    "    \n",
    "    product_name.append(temp1)\n",
    "    link.append(temp2)    \n",
    "    \n",
    "driver.quit()"
   ]
  },
  {
   "cell_type": "markdown",
   "id": "88e721ed",
   "metadata": {},
   "source": [
    "# xpath 확인"
   ]
  },
  {
   "cell_type": "markdown",
   "id": "c4effbca",
   "metadata": {},
   "source": [
    "* /html/body/div[2]/div[2]/div/div[3]/div[2]/ul/li[28]/div/a/div[2]/p\n",
    "\n",
    "\n",
    "* /html/body/div[2]/div[2]/div/div[3]/div[4]/ul/li[1]/div/a/div[2]/p\n",
    "* /html/body/div[2]/div[2]/div/div[3]/div[4]/ul/li[5]/div/a/div[2]/p\n",
    "* /html/body/div[2]/div[2]/div/div[3]/div[4]/ul/li[28]/div/a/div[2]/p\n",
    "* /html/body/div[2]/div[2]/div/div[3]/div[4]/ul/li[29]/div/a/div[2]/p\n",
    "* /html/body/div[2]/div[2]/div/div[3]/div[4]/ul/li[30]/div/a/div[2]/p\n",
    "* /html/body/div[2]/div[2]/div/div[3]/div[4]/ul/li[42]/div/a/div[2]/p\n",
    "* /html/body/div[2]/div[2]/div/div[3]/div[4]/ul/li[78]/div/a/div[2]/p\n",
    "* /html/body/div[2]/div[2]/div/div[3]/div[4]/ul/li[142]/div/a/div[2]/p\n",
    "* /html/body/div[2]/div[2]/div/div[3]/div[4]/ul/li[315]/div/a/div[2]/p\n",
    "* /html/body/div[2]/div[2]/div/div[3]/div[4]/ul/li[472]/div/a/div[2]/p"
   ]
  },
  {
   "cell_type": "markdown",
   "id": "b92a80eb",
   "metadata": {},
   "source": [
    "확인해보면 28번 까지는 div[2]로 나오지만 이후는 div[4]로 나옴\n",
    "\n",
    "코드 두개 만들기"
   ]
  },
  {
   "cell_type": "markdown",
   "id": "9b1967c8",
   "metadata": {},
   "source": [
    "처음 28개"
   ]
  },
  {
   "cell_type": "code",
   "execution_count": 1,
   "id": "f902d2da",
   "metadata": {},
   "outputs": [],
   "source": [
    "from selenium import webdriver\n",
    "import time\n",
    "from selenium.webdriver.common.by import By\n",
    "import random"
   ]
  },
  {
   "cell_type": "code",
   "execution_count": 2,
   "id": "463f23a7",
   "metadata": {},
   "outputs": [
    {
     "name": "stderr",
     "output_type": "stream",
     "text": [
      "C:\\Users\\019\\AppData\\Local\\Temp\\ipykernel_15640\\1021940888.py:2: DeprecationWarning: executable_path has been deprecated, please pass in a Service object\n",
      "  driver = webdriver.Chrome(\"chromedriver.exe\")\n"
     ]
    }
   ],
   "source": [
    "# 베스트 500 상품 이름과 링크 저장하기\n",
    "driver = webdriver.Chrome(\"chromedriver.exe\")\n",
    "url = \"https://www.11st.co.kr/browsing/BestSeller.tmall?method=getBestSellerMain\"\n",
    "driver.get(url)\n",
    "# 드라이버 열릴 때까지 최대 3초 기다리기\n",
    "driver.implicitly_wait(3)\n",
    "\n",
    "# xpath가 순서대로 나와서 f string 으로 변수에 저장함\n",
    "\n",
    "product_name = []\n",
    "link = []\n",
    "\n",
    "for i in range(28):\n",
    "    # 상품 이름과 링크의 xpath\n",
    "    # for문과 f string이용\n",
    "    name_x = f'/html/body/div[2]/div[2]/div/div[3]/div[2]/ul/li[{i+1}]/div/a/div[2]/p'\n",
    "    link_x = f'/html/body/div[2]/div[2]/div/div[3]/div[2]/ul/li[{i+1}]/div/a'\n",
    "\n",
    "    temp1 = driver.find_element(By.XPATH, name_x).text\n",
    "    temp2 = driver.find_element(By.XPATH, link_x).get_attribute('href')\n",
    "    \n",
    "    product_name.append(temp1)\n",
    "    link.append(temp2)    \n",
    "    \n",
    "    # 랜덤하게 멈춤(사람인척)\n",
    "    time.sleep(random.uniform(0,2))\n",
    "    \n",
    "driver.quit()"
   ]
  },
  {
   "cell_type": "markdown",
   "id": "d8ca963d",
   "metadata": {},
   "source": [
    "나머지"
   ]
  },
  {
   "cell_type": "code",
   "execution_count": 3,
   "id": "3371c458",
   "metadata": {
    "scrolled": true
   },
   "outputs": [
    {
     "name": "stderr",
     "output_type": "stream",
     "text": [
      "C:\\Users\\019\\AppData\\Local\\Temp\\ipykernel_15640\\1821863859.py:2: DeprecationWarning: executable_path has been deprecated, please pass in a Service object\n",
      "  driver = webdriver.Chrome(\"chromedriver.exe\")\n"
     ]
    },
    {
     "name": "stdout",
     "output_type": "stream",
     "text": [
      "0\n",
      "50\n",
      "100\n",
      "150\n",
      "200\n",
      "250\n",
      "300\n",
      "350\n",
      "400\n",
      "450\n"
     ]
    }
   ],
   "source": [
    "# 베스트 500 상품 이름과 링크 저장하기\n",
    "driver = webdriver.Chrome(\"chromedriver.exe\")\n",
    "url = \"https://www.11st.co.kr/browsing/BestSeller.tmall?method=getBestSellerMain\"\n",
    "driver.get(url)\n",
    "# 드라이버 열릴 때까지 최대 3초 기다리기\n",
    "driver.implicitly_wait(3)\n",
    "\n",
    "# xpath가 순서대로 나와서 f string 으로 변수에 저장함\n",
    "\n",
    "# product_name = []\n",
    "# link = []\n",
    "# 위에서 만들었던 리스트에 추가할 예정\n",
    "\n",
    "# 28개를 빼면 총 472개가 있으므로 범위는 range(472)\n",
    "\n",
    "for i in range(472):\n",
    "    # 상품 이름과 링크의 xpath\n",
    "    # for문과 f string이용\n",
    "    name_x = f'/html/body/div[2]/div[2]/div/div[3]/div[4]/ul/li[{i+1}]/div/a/div[2]/p'\n",
    "    link_x = f'/html/body/div[2]/div[2]/div/div[3]/div[4]/ul/li[{i+1}]/div/a'\n",
    "\n",
    "    temp1 = driver.find_element(By.XPATH, name_x).text\n",
    "    temp2 = driver.find_element(By.XPATH, link_x).get_attribute('href')\n",
    "    \n",
    "    product_name.append(temp1)\n",
    "    link.append(temp2)    \n",
    "    \n",
    "    # 아래로 내리기\n",
    "    driver.execute_script(\"window.scrollTo(0, document.body.scrollHeight);\")\n",
    "    \n",
    "    # 어디까지 왔는지 확인하기\n",
    "    if i % 50 == 0:\n",
    "        print(i)\n",
    "    \n",
    "    # 랜덤하게 멈춤(사람인척)\n",
    "    time.sleep(random.uniform(0,2))\n",
    "    \n",
    "driver.quit()"
   ]
  },
  {
   "cell_type": "code",
   "execution_count": 7,
   "id": "0a483ca7",
   "metadata": {},
   "outputs": [
    {
     "data": {
      "text/plain": [
       "(500, 500)"
      ]
     },
     "execution_count": 7,
     "metadata": {},
     "output_type": "execute_result"
    }
   ],
   "source": [
    "len(product_name), len(link)"
   ]
  },
  {
   "cell_type": "code",
   "execution_count": 10,
   "id": "c8286547",
   "metadata": {},
   "outputs": [],
   "source": [
    "import pandas as pd\n",
    "\n",
    "# 동일한 길이의 리스트를 dataframe으로 추가하기\n",
    "df = pd.DataFrame([ x for x in zip(product_name, link)])\n",
    "df\n",
    "\n",
    "df.to_csv(\"product_link.csv\", encoding = \"cp949\")"
   ]
  }
 ],
 "metadata": {
  "kernelspec": {
   "display_name": "Python 3 (ipykernel)",
   "language": "python",
   "name": "python3"
  },
  "language_info": {
   "codemirror_mode": {
    "name": "ipython",
    "version": 3
   },
   "file_extension": ".py",
   "mimetype": "text/x-python",
   "name": "python",
   "nbconvert_exporter": "python",
   "pygments_lexer": "ipython3",
   "version": "3.9.12"
  }
 },
 "nbformat": 4,
 "nbformat_minor": 5
}
