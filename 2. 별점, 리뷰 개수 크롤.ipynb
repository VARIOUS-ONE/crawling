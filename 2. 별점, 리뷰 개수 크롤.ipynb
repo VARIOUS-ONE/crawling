{
 "cells": [
  {
   "cell_type": "markdown",
   "id": "7e3d2c83",
   "metadata": {},
   "source": [
    "링크에 있는 상품의 별점과 리뷰 개수를 크롤하는 코드"
   ]
  },
  {
   "cell_type": "code",
   "execution_count": 2,
   "id": "4b9b26b2",
   "metadata": {},
   "outputs": [],
   "source": [
    "import pandas as pd\n",
    "product_df = pd.read_csv(\"product_link.csv\", encoding='cp949')"
   ]
  },
  {
   "cell_type": "code",
   "execution_count": 3,
   "id": "efd4a3e2",
   "metadata": {
    "scrolled": true
   },
   "outputs": [
    {
     "data": {
      "text/html": [
       "<div>\n",
       "<style scoped>\n",
       "    .dataframe tbody tr th:only-of-type {\n",
       "        vertical-align: middle;\n",
       "    }\n",
       "\n",
       "    .dataframe tbody tr th {\n",
       "        vertical-align: top;\n",
       "    }\n",
       "\n",
       "    .dataframe thead th {\n",
       "        text-align: right;\n",
       "    }\n",
       "</style>\n",
       "<table border=\"1\" class=\"dataframe\">\n",
       "  <thead>\n",
       "    <tr style=\"text-align: right;\">\n",
       "      <th></th>\n",
       "      <th>Unnamed: 0</th>\n",
       "      <th>0</th>\n",
       "      <th>1</th>\n",
       "    </tr>\n",
       "  </thead>\n",
       "  <tbody>\n",
       "    <tr>\n",
       "      <th>0</th>\n",
       "      <td>0</td>\n",
       "      <td>[아모레퍼시픽] 한가위 BEST 선물세트 모음전! #설화수#헤라#프리메라#메이크온</td>\n",
       "      <td>https://www.11st.co.kr/products/2217098035?inp...</td>\n",
       "    </tr>\n",
       "    <tr>\n",
       "      <th>1</th>\n",
       "      <td>1</td>\n",
       "      <td>[더주] 유명한 말랑장족! 컷팅장족/눌린장족 100g / 주전부리 모음</td>\n",
       "      <td>https://www.11st.co.kr/products/2350103480?inp...</td>\n",
       "    </tr>\n",
       "    <tr>\n",
       "      <th>2</th>\n",
       "      <td>2</td>\n",
       "      <td>농심 대표라면 신라면20입/너구리20입/짜파게티20입/안성탕면20입/짜왕 16입</td>\n",
       "      <td>https://www.11st.co.kr/products/4689413115?inp...</td>\n",
       "    </tr>\n",
       "    <tr>\n",
       "      <th>3</th>\n",
       "      <td>3</td>\n",
       "      <td>맥심 모카/화이트골드 360T 외 모음전</td>\n",
       "      <td>https://www.11st.co.kr/products/3898502625?inp...</td>\n",
       "    </tr>\n",
       "    <tr>\n",
       "      <th>4</th>\n",
       "      <td>4</td>\n",
       "      <td>[농할가13,610원] 제주농협 하우스감귤 2.5kg 4.5kg #로얄과 #소과</td>\n",
       "      <td>https://www.11st.co.kr/products/2423274503?inp...</td>\n",
       "    </tr>\n",
       "    <tr>\n",
       "      <th>...</th>\n",
       "      <td>...</td>\n",
       "      <td>...</td>\n",
       "      <td>...</td>\n",
       "    </tr>\n",
       "    <tr>\n",
       "      <th>495</th>\n",
       "      <td>495</td>\n",
       "      <td>[태풍몰][T멤버십11%]동서 카누라떼/더블샷라떼 50Tx2개+플랫텀블러+패들포인트...</td>\n",
       "      <td>https://www.11st.co.kr/products/1714464898?inp...</td>\n",
       "    </tr>\n",
       "    <tr>\n",
       "      <th>496</th>\n",
       "      <td>496</td>\n",
       "      <td>포스트 오레오 오즈500g+오곡코코볼570g+시리얼용기1.0L [콘푸 라이트/시리얼...</td>\n",
       "      <td>https://www.11st.co.kr/products/1685638532?inp...</td>\n",
       "    </tr>\n",
       "    <tr>\n",
       "      <th>497</th>\n",
       "      <td>497</td>\n",
       "      <td>[50매]네이처에어 KF94 새부리형마스크 최고급 안감/넙적끈/대형/소형/초소형/어린이/</td>\n",
       "      <td>https://www.11st.co.kr/products/3938225471?inp...</td>\n",
       "    </tr>\n",
       "    <tr>\n",
       "      <th>498</th>\n",
       "      <td>498</td>\n",
       "      <td>다우니 초고농축 섬유유연제 엑스퍼트 실내건조 4L 2개</td>\n",
       "      <td>https://www.11st.co.kr/products/4492552418?inp...</td>\n",
       "    </tr>\n",
       "    <tr>\n",
       "      <th>499</th>\n",
       "      <td>499</td>\n",
       "      <td>무 료 배 송 500gx2 총1kg/신선한 원두커피 / 사 은 품 증 정</td>\n",
       "      <td>https://www.11st.co.kr/products/1523066227?inp...</td>\n",
       "    </tr>\n",
       "  </tbody>\n",
       "</table>\n",
       "<p>500 rows × 3 columns</p>\n",
       "</div>"
      ],
      "text/plain": [
       "     Unnamed: 0                                                  0  \\\n",
       "0             0      [아모레퍼시픽] 한가위 BEST 선물세트 모음전! #설화수#헤라#프리메라#메이크온   \n",
       "1             1            [더주] 유명한 말랑장족! 컷팅장족/눌린장족 100g / 주전부리 모음   \n",
       "2             2       농심 대표라면 신라면20입/너구리20입/짜파게티20입/안성탕면20입/짜왕 16입   \n",
       "3             3                             맥심 모카/화이트골드 360T 외 모음전   \n",
       "4             4       [농할가13,610원] 제주농협 하우스감귤 2.5kg 4.5kg #로얄과 #소과   \n",
       "..          ...                                                ...   \n",
       "495         495  [태풍몰][T멤버십11%]동서 카누라떼/더블샷라떼 50Tx2개+플랫텀블러+패들포인트...   \n",
       "496         496  포스트 오레오 오즈500g+오곡코코볼570g+시리얼용기1.0L [콘푸 라이트/시리얼...   \n",
       "497         497  [50매]네이처에어 KF94 새부리형마스크 최고급 안감/넙적끈/대형/소형/초소형/어린이/   \n",
       "498         498                     다우니 초고농축 섬유유연제 엑스퍼트 실내건조 4L 2개   \n",
       "499         499           무 료 배 송 500gx2 총1kg/신선한 원두커피 / 사 은 품 증 정   \n",
       "\n",
       "                                                     1  \n",
       "0    https://www.11st.co.kr/products/2217098035?inp...  \n",
       "1    https://www.11st.co.kr/products/2350103480?inp...  \n",
       "2    https://www.11st.co.kr/products/4689413115?inp...  \n",
       "3    https://www.11st.co.kr/products/3898502625?inp...  \n",
       "4    https://www.11st.co.kr/products/2423274503?inp...  \n",
       "..                                                 ...  \n",
       "495  https://www.11st.co.kr/products/1714464898?inp...  \n",
       "496  https://www.11st.co.kr/products/1685638532?inp...  \n",
       "497  https://www.11st.co.kr/products/3938225471?inp...  \n",
       "498  https://www.11st.co.kr/products/4492552418?inp...  \n",
       "499  https://www.11st.co.kr/products/1523066227?inp...  \n",
       "\n",
       "[500 rows x 3 columns]"
      ]
     },
     "execution_count": 3,
     "metadata": {},
     "output_type": "execute_result"
    }
   ],
   "source": [
    "product_df"
   ]
  },
  {
   "cell_type": "code",
   "execution_count": 4,
   "id": "37a710f1",
   "metadata": {},
   "outputs": [],
   "source": [
    "from selenium import webdriver\n",
    "import time\n",
    "from selenium.webdriver.common.by import By\n",
    "import random\n",
    "from selenium.webdriver.common.keys import Keys"
   ]
  },
  {
   "cell_type": "code",
   "execution_count": 5,
   "id": "e9f87c93",
   "metadata": {},
   "outputs": [],
   "source": [
    "import numpy as np"
   ]
  },
  {
   "cell_type": "markdown",
   "id": "f725c61c",
   "metadata": {},
   "source": [
    "# 완성코드 정리"
   ]
  },
  {
   "cell_type": "code",
   "execution_count": null,
   "id": "52d22745",
   "metadata": {},
   "outputs": [],
   "source": [
    "product_star = []\n",
    "product_review_count = []\n",
    "\n",
    "# 크롤 안 된 부분만 따오기\n",
    "for i in range(500):\n",
    "    try:\n",
    "        url = product_df[\"1\"][i]\n",
    "\n",
    "        driver = webdriver.Chrome(\"chromedriver.exe\")\n",
    "        driver.get(url)\n",
    "        driver.implicitly_wait(3)\n",
    "\n",
    "        # 맨 아래로 내려가기 - 이거 있으니까 내려 갈 곳 없다고 에러 뜸\n",
    "        #driver.execute_script(\"window.scrollTo(0, document.body.scrollHeight);\")\n",
    "\n",
    "        iframe = driver.find_element(By.ID, \"ifrmReview\") # iframe은 총 4개 있고 그 중 ifrmReview를 찾아내서\n",
    "        driver.switch_to.frame(iframe) # switch 한다\n",
    "\n",
    "        try:\n",
    "            star_mean = driver.find_element(By.XPATH, \"/html/body/div[1]/div[2]/dl/dt/div/span[1]/em\").text\n",
    "            review_count = driver.find_element(By.XPATH, \"/html/body/div[1]/div[2]/dl/dt/div/span[2]/i\").text\n",
    "            star_mean = float(star_mean)\n",
    "            review_count = int(review_count.replace(',',''))\n",
    "\n",
    "            product_star.append(star_mean)\n",
    "            product_review_count.append(review_count)\n",
    "        except:\n",
    "            product_star.append(None)\n",
    "            product_review_count.append(None)\n",
    "    except:\n",
    "        continue\n",
    "        product_star.append(star_mean)\n",
    "        product_review_count.append(review_count)\n",
    "    driver.quit()"
   ]
  },
  {
   "cell_type": "code",
   "execution_count": null,
   "id": "80e23981",
   "metadata": {},
   "outputs": [],
   "source": [
    "# 리스트를 dataframe으로 저장하기\n",
    "import pandas as pd\n",
    "\n",
    "# 동일한 길이의 리스트를 dataframe으로 추가하기\n",
    "df = pd.DataFrame([ x for x in zip(product_review_count, product_star)])\n",
    "df\n",
    "\n",
    "df.to_csv(\"df_star_count.csv\", encoding = \"cp949\")"
   ]
  },
  {
   "cell_type": "markdown",
   "id": "26876d29",
   "metadata": {},
   "source": [
    "이렇게 나온 csv 파일을 기존 product_link.csv랑 합쳐 product_link_revised.csv 파일로 만들었음"
   ]
  },
  {
   "cell_type": "code",
   "execution_count": null,
   "id": "b839f179",
   "metadata": {},
   "outputs": [],
   "source": []
  }
 ],
 "metadata": {
  "kernelspec": {
   "display_name": "Python 3 (ipykernel)",
   "language": "python",
   "name": "python3"
  },
  "language_info": {
   "codemirror_mode": {
    "name": "ipython",
    "version": 3
   },
   "file_extension": ".py",
   "mimetype": "text/x-python",
   "name": "python",
   "nbconvert_exporter": "python",
   "pygments_lexer": "ipython3",
   "version": "3.9.12"
  }
 },
 "nbformat": 4,
 "nbformat_minor": 5
}
