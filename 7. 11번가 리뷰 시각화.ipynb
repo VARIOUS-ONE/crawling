{
 "cells": [
  {
   "cell_type": "markdown",
   "id": "46e36227",
   "metadata": {},
   "source": [
    "# 여기서부터 시작"
   ]
  },
  {
   "cell_type": "code",
   "execution_count": 1,
   "id": "941b52d3",
   "metadata": {},
   "outputs": [],
   "source": [
    "import pandas as pd\n",
    "import seaborn as sns\n",
    "import numpy as np\n",
    "import matplotlib.pyplot as plt"
   ]
  },
  {
   "cell_type": "code",
   "execution_count": 2,
   "id": "6a57fa59",
   "metadata": {},
   "outputs": [],
   "source": [
    "df_1점 = pd.read_csv(\"11번가_1점리뷰(4.6만).csv\", encoding = 'utf-8-sig', index_col=0)\n",
    "df_2점 = pd.read_csv(\"11번가_2점리뷰(4.7만).csv\", encoding = 'utf-8-sig', index_col=0)\n",
    "df_3점 = pd.read_csv(\"11번가_3점리뷰(8.2만).csv\", encoding = 'utf-8-sig', index_col=0)\n",
    "df_4점 = pd.read_csv(\"11번가_4점리뷰(9.8만).csv\", encoding = 'utf-8-sig', index_col=0)\n",
    "df_5점 = pd.read_csv(\"11번가_5점_리뷰(15만).csv\", encoding = 'utf-8-sig', index_col=0)\n",
    "df_all = pd.read_csv(\"11번가_리뷰(43만).csv\", encoding = 'utf-8-sig', index_col=0)"
   ]
  },
  {
   "cell_type": "code",
   "execution_count": 3,
   "id": "c62464dd",
   "metadata": {},
   "outputs": [
    {
     "data": {
      "text/plain": [
       "1281"
      ]
     },
     "execution_count": 3,
     "metadata": {},
     "output_type": "execute_result"
    }
   ],
   "source": [
    "# 총 1281개 상품\n",
    "len(df_all['상품명'].unique())"
   ]
  },
  {
   "cell_type": "code",
   "execution_count": 4,
   "id": "de2015cd",
   "metadata": {
    "scrolled": true
   },
   "outputs": [
    {
     "data": {
      "text/plain": [
       "41.1"
      ]
     },
     "execution_count": 4,
     "metadata": {},
     "output_type": "execute_result"
    }
   ],
   "source": [
    "round(len(df_1점) / len(df_1점['상품명'].unique()), 2)"
   ]
  },
  {
   "cell_type": "code",
   "execution_count": 5,
   "id": "8430f203",
   "metadata": {},
   "outputs": [
    {
     "data": {
      "text/plain": [
       "49.48"
      ]
     },
     "execution_count": 5,
     "metadata": {},
     "output_type": "execute_result"
    }
   ],
   "source": [
    "round(len(df_2점) / len(df_2점['상품명'].unique()),2)"
   ]
  },
  {
   "cell_type": "code",
   "execution_count": 6,
   "id": "e0202a2c",
   "metadata": {},
   "outputs": [
    {
     "data": {
      "text/plain": [
       "202.79"
      ]
     },
     "execution_count": 6,
     "metadata": {},
     "output_type": "execute_result"
    }
   ],
   "source": [
    "round(len(df_3점) / len(df_3점['상품명'].unique()),2)"
   ]
  },
  {
   "cell_type": "code",
   "execution_count": 7,
   "id": "570cc53d",
   "metadata": {},
   "outputs": [
    {
     "data": {
      "text/plain": [
       "480.99"
      ]
     },
     "execution_count": 7,
     "metadata": {},
     "output_type": "execute_result"
    }
   ],
   "source": [
    "round(len(df_4점) / len(df_4점['상품명'].unique()),2)"
   ]
  },
  {
   "cell_type": "code",
   "execution_count": 8,
   "id": "61388efc",
   "metadata": {},
   "outputs": [
    {
     "data": {
      "text/plain": [
       "608.32"
      ]
     },
     "execution_count": 8,
     "metadata": {},
     "output_type": "execute_result"
    }
   ],
   "source": [
    "round(len(df_5점) / len(df_5점['상품명'].unique()),2)"
   ]
  },
  {
   "cell_type": "code",
   "execution_count": 9,
   "id": "bdb768f5",
   "metadata": {},
   "outputs": [],
   "source": [
    "star = [1,2,3,4,5]\n",
    "star_product = [round(len(df_1점) / len(df_1점['상품명'].unique()), 2),\n",
    "            round(len(df_2점) / len(df_2점['상품명'].unique()),2),\n",
    "            round(len(df_3점) / len(df_3점['상품명'].unique()),2),\n",
    "            round(len(df_4점) / len(df_4점['상품명'].unique()),2),\n",
    "            round(len(df_5점) / len(df_5점['상품명'].unique()),2)]"
   ]
  },
  {
   "cell_type": "code",
   "execution_count": 10,
   "id": "0963e5a0",
   "metadata": {},
   "outputs": [],
   "source": [
    "import matplotlib.pyplot as plt\n",
    "import numpy as np"
   ]
  },
  {
   "cell_type": "code",
   "execution_count": 11,
   "id": "e1ee19c7",
   "metadata": {},
   "outputs": [],
   "source": [
    "# 한글 오류 안 뜨게 함\n",
    "import os\n",
    "import matplotlib.pyplot as plt\n",
    "\n",
    "if os.name == 'posix':\n",
    "    plt.rc(\"font\", family=\"AppleGothic\")\n",
    "\n",
    "else:\n",
    "    plt.rc(\"font\", family=\"Malgun Gothic\")"
   ]
  },
  {
   "cell_type": "code",
   "execution_count": 12,
   "id": "d1f0a5a9",
   "metadata": {},
   "outputs": [
    {
     "data": {
      "image/png": "[encoded data removed]",
      "text/plain": [
       "<Figure size 576x432 with 1 Axes>"
      ]
     },
     "metadata": {
      "needs_background": "light"
     },
     "output_type": "display_data"
    },
    {
     "data": {
      "text/plain": [
       "<Figure size 432x288 with 0 Axes>"
      ]
     },
     "metadata": {},
     "output_type": "display_data"
    }
   ],
   "source": [
    "plt.figure(figsize=[8,6])\n",
    "plt.style.use('ggplot')\n",
    "plt.bar(star, star_product)\n",
    "plt.suptitle(\"상품 하나당 리뷰 개수\", y=0.92,fontsize=15)\n",
    "plt.title(\"11번가 별점 분포\", y=1.06, fontsize=25)\n",
    "plt.xticks(fontsize=15)\n",
    "plt.yticks(fontsize=12)\n",
    "plt.show()\n",
    "plt.savefig('11번가 별점 분포.png')"
   ]
  },
  {
   "cell_type": "code",
   "execution_count": 13,
   "id": "a03743fc",
   "metadata": {},
   "outputs": [],
   "source": [
    "df_all = df_all.dropna().reset_index(drop=True)"
   ]
  },
  {
   "cell_type": "code",
   "execution_count": 14,
   "id": "f7aeaeba",
   "metadata": {
    "scrolled": true
   },
   "outputs": [],
   "source": [
    "# 전체 리뷰 글자 보여주기\n",
    "리뷰길이 = []\n",
    "for i in range(len(df_all)):\n",
    "    리뷰길이.append(len(df_all['리뷰'][i]))\n",
    "df_all['리뷰길이'] = 리뷰길이"
   ]
  },
  {
   "cell_type": "code",
   "execution_count": 15,
   "id": "92ae253c",
   "metadata": {},
   "outputs": [
    {
     "data": {
      "text/html": [
       "<div>\n",
       "<style scoped>\n",
       "    .dataframe tbody tr th:only-of-type {\n",
       "        vertical-align: middle;\n",
       "    }\n",
       "\n",
       "    .dataframe tbody tr th {\n",
       "        vertical-align: top;\n",
       "    }\n",
       "\n",
       "    .dataframe thead th {\n",
       "        text-align: right;\n",
       "    }\n",
       "</style>\n",
       "<table border=\"1\" class=\"dataframe\">\n",
       "  <thead>\n",
       "    <tr style=\"text-align: right;\">\n",
       "      <th></th>\n",
       "      <th>상품명</th>\n",
       "      <th>날짜</th>\n",
       "      <th>ID</th>\n",
       "      <th>평점</th>\n",
       "      <th>리뷰</th>\n",
       "      <th>꾹</th>\n",
       "      <th>리뷰길이</th>\n",
       "    </tr>\n",
       "  </thead>\n",
       "  <tbody>\n",
       "    <tr>\n",
       "      <th>0</th>\n",
       "      <td>[대용량 100매] 클린케이 덴탈형 KF94마스크 50매 x 2팩 대형/소형</td>\n",
       "      <td>2022.07.15</td>\n",
       "      <td>kjsk***</td>\n",
       "      <td>1</td>\n",
       "      <td>포장을 좀 더 신경써 주세요. 입에 대기 찝찝하게 포장박스가 다 벌어져 있는데다 안...</td>\n",
       "      <td>0</td>\n",
       "      <td>241</td>\n",
       "    </tr>\n",
       "    <tr>\n",
       "      <th>1</th>\n",
       "      <td>[대용량 100매] 클린케이 덴탈형 KF94마스크 50매 x 2팩 대형/소형</td>\n",
       "      <td>2022.01.25</td>\n",
       "      <td>햇살가득막뚱</td>\n",
       "      <td>1</td>\n",
       "      <td>그냥 덴탈이에요 ㅜㅜ 너무 얇고 너무 허접해요안에 비닐하나 안싸여져진게 왔고 이걸 ...</td>\n",
       "      <td>1</td>\n",
       "      <td>148</td>\n",
       "    </tr>\n",
       "    <tr>\n",
       "      <th>2</th>\n",
       "      <td>[대용량 100매] 클린케이 덴탈형 KF94마스크 50매 x 2팩 대형/소형</td>\n",
       "      <td>2022.08.04</td>\n",
       "      <td>65</td>\n",
       "      <td>1</td>\n",
       "      <td>옆부분이 다 들려서 마스크로서의 기능이 없습니다. 이런 제품은 11번가에서 자체검수...</td>\n",
       "      <td>0</td>\n",
       "      <td>63</td>\n",
       "    </tr>\n",
       "    <tr>\n",
       "      <th>3</th>\n",
       "      <td>[대용량 100매] 클린케이 덴탈형 KF94마스크 50매 x 2팩 대형/소형</td>\n",
       "      <td>2022.06.29</td>\n",
       "      <td>q983****</td>\n",
       "      <td>1</td>\n",
       "      <td>기존에 주문해서 썼는데 이번물건을 쓸때마다 귀가 아파 기존것과 확인해보니 끈이 짧아...</td>\n",
       "      <td>0</td>\n",
       "      <td>188</td>\n",
       "    </tr>\n",
       "    <tr>\n",
       "      <th>4</th>\n",
       "      <td>[대용량 100매] 클린케이 덴탈형 KF94마스크 50매 x 2팩 대형/소형</td>\n",
       "      <td>2022.04.29</td>\n",
       "      <td>back***</td>\n",
       "      <td>1</td>\n",
       "      <td>일단 배송은 빨라요~ 포장은 50개 1박스 위에 비닐 한겹 씌어져있고 비닐에 담아져...</td>\n",
       "      <td>0</td>\n",
       "      <td>185</td>\n",
       "    </tr>\n",
       "    <tr>\n",
       "      <th>...</th>\n",
       "      <td>...</td>\n",
       "      <td>...</td>\n",
       "      <td>...</td>\n",
       "      <td>...</td>\n",
       "      <td>...</td>\n",
       "      <td>...</td>\n",
       "      <td>...</td>\n",
       "    </tr>\n",
       "    <tr>\n",
       "      <th>432299</th>\n",
       "      <td>[본사][15%+10%]하림펫푸드 더리얼 밥이보약 강아지사료/고양이사료 전상품모음딜</td>\n",
       "      <td>2022.05.18</td>\n",
       "      <td>02</td>\n",
       "      <td>5</td>\n",
       "      <td>매번 다먹으면 여기서구입합니다. 일단 쿠폰할인과 빠른배송때문에 여기서만 주문해요.</td>\n",
       "      <td>0</td>\n",
       "      <td>45</td>\n",
       "    </tr>\n",
       "    <tr>\n",
       "      <th>432300</th>\n",
       "      <td>[본사][15%+10%]하림펫푸드 더리얼 밥이보약 강아지사료/고양이사료 전상품모음딜</td>\n",
       "      <td>2022.05.14</td>\n",
       "      <td>02</td>\n",
       "      <td>5</td>\n",
       "      <td>항상주문합니다.쿠폰한인에 배송도빠르고 여기서주문해요.</td>\n",
       "      <td>0</td>\n",
       "      <td>29</td>\n",
       "    </tr>\n",
       "    <tr>\n",
       "      <th>432301</th>\n",
       "      <td>[본사][15%+10%]하림펫푸드 더리얼 밥이보약 강아지사료/고양이사료 전상품모음딜</td>\n",
       "      <td>2022.02.12</td>\n",
       "      <td>chou*****</td>\n",
       "      <td>5</td>\n",
       "      <td>다행이도 기호성 괜찮구요맛동산 색도 좋네요한가지 흠이라면 가루가 좀 많아요</td>\n",
       "      <td>0</td>\n",
       "      <td>41</td>\n",
       "    </tr>\n",
       "    <tr>\n",
       "      <th>432302</th>\n",
       "      <td>[본사][15%+10%]하림펫푸드 더리얼 밥이보약 강아지사료/고양이사료 전상품모음딜</td>\n",
       "      <td>2022.02.17</td>\n",
       "      <td>hh77**</td>\n",
       "      <td>5</td>\n",
       "      <td>매번 시키고있어요 잘먹고 로얄캐닌에비해 턱드름도 덜생기네요 사은품잘받았습니다</td>\n",
       "      <td>0</td>\n",
       "      <td>42</td>\n",
       "    </tr>\n",
       "    <tr>\n",
       "      <th>432303</th>\n",
       "      <td>[본사][15%+10%]하림펫푸드 더리얼 밥이보약 강아지사료/고양이사료 전상품모음딜</td>\n",
       "      <td>2022.01.06</td>\n",
       "      <td>hole***</td>\n",
       "      <td>5</td>\n",
       "      <td>다른 사료와 함께 섞어주고있습니다 늘 먹이는 사료라 애들 거부감없이 잘 먹어줍니다</td>\n",
       "      <td>0</td>\n",
       "      <td>45</td>\n",
       "    </tr>\n",
       "  </tbody>\n",
       "</table>\n",
       "<p>432304 rows × 7 columns</p>\n",
       "</div>"
      ],
      "text/plain": [
       "                                                   상품명          날짜         ID  \\\n",
       "0           [대용량 100매] 클린케이 덴탈형 KF94마스크 50매 x 2팩 대형/소형  2022.07.15    kjsk***   \n",
       "1           [대용량 100매] 클린케이 덴탈형 KF94마스크 50매 x 2팩 대형/소형  2022.01.25     햇살가득막뚱   \n",
       "2           [대용량 100매] 클린케이 덴탈형 KF94마스크 50매 x 2팩 대형/소형  2022.08.04         65   \n",
       "3           [대용량 100매] 클린케이 덴탈형 KF94마스크 50매 x 2팩 대형/소형  2022.06.29   q983****   \n",
       "4           [대용량 100매] 클린케이 덴탈형 KF94마스크 50매 x 2팩 대형/소형  2022.04.29    back***   \n",
       "...                                                ...         ...        ...   \n",
       "432299  [본사][15%+10%]하림펫푸드 더리얼 밥이보약 강아지사료/고양이사료 전상품모음딜  2022.05.18         02   \n",
       "432300  [본사][15%+10%]하림펫푸드 더리얼 밥이보약 강아지사료/고양이사료 전상품모음딜  2022.05.14         02   \n",
       "432301  [본사][15%+10%]하림펫푸드 더리얼 밥이보약 강아지사료/고양이사료 전상품모음딜  2022.02.12  chou*****   \n",
       "432302  [본사][15%+10%]하림펫푸드 더리얼 밥이보약 강아지사료/고양이사료 전상품모음딜  2022.02.17     hh77**   \n",
       "432303  [본사][15%+10%]하림펫푸드 더리얼 밥이보약 강아지사료/고양이사료 전상품모음딜  2022.01.06    hole***   \n",
       "\n",
       "        평점                                                 리뷰  꾹  리뷰길이  \n",
       "0        1  포장을 좀 더 신경써 주세요. 입에 대기 찝찝하게 포장박스가 다 벌어져 있는데다 안...  0   241  \n",
       "1        1  그냥 덴탈이에요 ㅜㅜ 너무 얇고 너무 허접해요안에 비닐하나 안싸여져진게 왔고 이걸 ...  1   148  \n",
       "2        1  옆부분이 다 들려서 마스크로서의 기능이 없습니다. 이런 제품은 11번가에서 자체검수...  0    63  \n",
       "3        1  기존에 주문해서 썼는데 이번물건을 쓸때마다 귀가 아파 기존것과 확인해보니 끈이 짧아...  0   188  \n",
       "4        1  일단 배송은 빨라요~ 포장은 50개 1박스 위에 비닐 한겹 씌어져있고 비닐에 담아져...  0   185  \n",
       "...     ..                                                ... ..   ...  \n",
       "432299   5      매번 다먹으면 여기서구입합니다. 일단 쿠폰할인과 빠른배송때문에 여기서만 주문해요.  0    45  \n",
       "432300   5                      항상주문합니다.쿠폰한인에 배송도빠르고 여기서주문해요.  0    29  \n",
       "432301   5          다행이도 기호성 괜찮구요맛동산 색도 좋네요한가지 흠이라면 가루가 좀 많아요  0    41  \n",
       "432302   5         매번 시키고있어요 잘먹고 로얄캐닌에비해 턱드름도 덜생기네요 사은품잘받았습니다  0    42  \n",
       "432303   5      다른 사료와 함께 섞어주고있습니다 늘 먹이는 사료라 애들 거부감없이 잘 먹어줍니다  0    45  \n",
       "\n",
       "[432304 rows x 7 columns]"
      ]
     },
     "execution_count": 15,
     "metadata": {},
     "output_type": "execute_result"
    }
   ],
   "source": [
    "df_all"
   ]
  },
  {
   "cell_type": "code",
   "execution_count": 16,
   "id": "83bb8264",
   "metadata": {},
   "outputs": [
    {
     "data": {
      "image/png": "[encoded data removed]",
      "text/plain": [
       "<Figure size 576x432 with 1 Axes>"
      ]
     },
     "metadata": {},
     "output_type": "display_data"
    },
    {
     "data": {
      "text/plain": [
       "<Figure size 432x288 with 0 Axes>"
      ]
     },
     "metadata": {},
     "output_type": "display_data"
    }
   ],
   "source": [
    "x = range(0,500,30)\n",
    "\n",
    "plt.figure(figsize=[8,6])\n",
    "plt.style.use('ggplot')\n",
    "plt.title(\"11번가 리뷰 길이 분포\", fontsize=20)\n",
    "plt.hist(x=df_all['리뷰길이'], color='green', alpha = 0.6, bins=100, edgecolor='black', range = [0,400])\n",
    "plt.xticks=(x)\n",
    "plt.show()\n",
    "plt.savefig('11번가 리뷰 길이 분포.png')"
   ]
  },
  {
   "cell_type": "code",
   "execution_count": 17,
   "id": "a40d3979",
   "metadata": {},
   "outputs": [
    {
     "data": {
      "image/png": "[encoded data removed]",
      "text/plain": [
       "<Figure size 576x432 with 1 Axes>"
      ]
     },
     "metadata": {},
     "output_type": "display_data"
    },
    {
     "data": {
      "text/plain": [
       "<Figure size 432x288 with 0 Axes>"
      ]
     },
     "metadata": {},
     "output_type": "display_data"
    }
   ],
   "source": [
    "plt.figure(figsize=[8,6])\n",
    "sns.boxplot(x = df_all['평점'] , y=df_all['리뷰길이'])\n",
    "plt.title(\"11번가 평점별 리뷰길이 분포\", fontsize=20)\n",
    "plt.ylim(0,300)\n",
    "plt.show()\n",
    "plt.savefig('11번가 별점 박스플롯.png')"
   ]
  },
  {
   "cell_type": "code",
   "execution_count": 18,
   "id": "fb6e5544",
   "metadata": {},
   "outputs": [],
   "source": [
    "from datetime import datetime\n",
    "temp = df_all['날짜'].apply(lambda _ : datetime.strptime(_,'%Y.%m.%d'))"
   ]
  },
  {
   "cell_type": "code",
   "execution_count": 19,
   "id": "7950b914",
   "metadata": {},
   "outputs": [
    {
     "data": {
      "image/png": "[encoded data removed]",
      "text/plain": [
       "<Figure size 720x432 with 1 Axes>"
      ]
     },
     "metadata": {},
     "output_type": "display_data"
    }
   ],
   "source": [
    "# 한글 오류 안 뜨게 함\n",
    "import os\n",
    "import matplotlib.pyplot as plt\n",
    "\n",
    "if os.name == 'posix':\n",
    "    plt.rc(\"font\", family=\"AppleGothic\")\n",
    "\n",
    "else:\n",
    "    plt.rc(\"font\", family=\"Malgun Gothic\")\n",
    "\n",
    "fig = sns.displot(x= temp)\n",
    "fig.fig.set_size_inches(10,6)\n",
    "plt.ylabel(None)\n",
    "plt.title(\"11번가 리뷰 날짜 분포\")\n",
    "plt.savefig('11번가 리뷰 날짜 분포.png')\n",
    "plt.show()"
   ]
  },
  {
   "cell_type": "code",
   "execution_count": null,
   "id": "eca8e6d2",
   "metadata": {},
   "outputs": [],
   "source": []
  }
 ],
 "metadata": {
  "kernelspec": {
   "display_name": "Python 3 (ipykernel)",
   "language": "python",
   "name": "python3"
  },
  "language_info": {
   "codemirror_mode": {
    "name": "ipython",
    "version": 3
   },
   "file_extension": ".py",
   "mimetype": "text/x-python",
   "name": "python",
   "nbconvert_exporter": "python",
   "pygments_lexer": "ipython3",
   "version": "3.9.12"
  }
 },
 "nbformat": 4,
 "nbformat_minor": 5
}
